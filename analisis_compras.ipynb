{
 "cells": [
  {
   "cell_type": "code",
   "execution_count": 31,
   "metadata": {},
   "outputs": [],
   "source": [
    "import os\n",
    "import pandas as pd\n",
    "import openpyxl\n",
    "import warnings\n",
    "warnings.filterwarnings(\"ignore\", category=UserWarning, module=\"openpyxl\")\n"
   ]
  },
  {
   "cell_type": "code",
   "execution_count": 55,
   "metadata": {},
   "outputs": [],
   "source": [
    "nombre_archivo = [\"Presupuesto_mensual_2021.xlsx\", \"Presupuesto_mensual_2022.xlsx\", \"Presupuesto_mensual_2023.xlsx\", \"Presupuesto_mensual_2024.xlsx\"]\n",
    "rango_hojas = list(range(1,13))\n",
    "\n",
    "def excel_a_df(archivo, rango_hojas):\n",
    "    df_compras = pd.DataFrame() #df vacio para almacenar los resultados\n",
    "    for a in archivo:\n",
    "        try:\n",
    "            datos = pd.read_excel(a, sheet_name= rango_hojas, header= None, skiprows= 5)\n",
    "            #concatenar todas las hojas de los arhicvos en el df final\n",
    "            for hoja, df in datos.items():\n",
    "                df_compras = pd.concat([df_compras, df], ignore_index= True) #directamente concatena\n",
    "            #manejo de errores\n",
    "        except ValueError as e:\n",
    "            #print(f\"Algunas hojas especificadas no existen en {archivo}: {e}\")\n",
    "            continue\n",
    "        except Exception as e:\n",
    "            #print(f\"Error inesperado al procesar el libro {a} y la hoja {l}\")\n",
    "            continue\n",
    "    return df_compras \n"
   ]
  },
  {
   "cell_type": "code",
   "execution_count": 56,
   "metadata": {},
   "outputs": [],
   "source": [
    "df = excel_a_df(nombre_archivo, rango_hojas)"
   ]
  },
  {
   "cell_type": "code",
   "execution_count": 57,
   "metadata": {},
   "outputs": [
    {
     "data": {
      "text/html": [
       "<div>\n",
       "<style scoped>\n",
       "    .dataframe tbody tr th:only-of-type {\n",
       "        vertical-align: middle;\n",
       "    }\n",
       "\n",
       "    .dataframe tbody tr th {\n",
       "        vertical-align: top;\n",
       "    }\n",
       "\n",
       "    .dataframe thead th {\n",
       "        text-align: right;\n",
       "    }\n",
       "</style>\n",
       "<table border=\"1\" class=\"dataframe\">\n",
       "  <thead>\n",
       "    <tr style=\"text-align: right;\">\n",
       "      <th></th>\n",
       "      <th>0</th>\n",
       "      <th>1</th>\n",
       "      <th>2</th>\n",
       "      <th>3</th>\n",
       "      <th>4</th>\n",
       "      <th>5</th>\n",
       "      <th>6</th>\n",
       "      <th>7</th>\n",
       "      <th>8</th>\n",
       "      <th>9</th>\n",
       "    </tr>\n",
       "  </thead>\n",
       "  <tbody>\n",
       "    <tr>\n",
       "      <th>0</th>\n",
       "      <td>N</td>\n",
       "      <td>2021-12-30</td>\n",
       "      <td>3.2</td>\n",
       "      <td>Perforadora</td>\n",
       "      <td>NaN</td>\n",
       "      <td>Chino</td>\n",
       "      <td>Vivienda</td>\n",
       "      <td>NaN</td>\n",
       "      <td>-44560.0</td>\n",
       "      <td>NaN</td>\n",
       "    </tr>\n",
       "    <tr>\n",
       "      <th>1</th>\n",
       "      <td>N</td>\n",
       "      <td>2021-12-30</td>\n",
       "      <td>1.2</td>\n",
       "      <td>Pincel de silicona</td>\n",
       "      <td>NaN</td>\n",
       "      <td>Chino</td>\n",
       "      <td>Vivienda</td>\n",
       "      <td>NaN</td>\n",
       "      <td>-44560.0</td>\n",
       "      <td>NaN</td>\n",
       "    </tr>\n",
       "    <tr>\n",
       "      <th>2</th>\n",
       "      <td>N</td>\n",
       "      <td>2021-12-30</td>\n",
       "      <td>0.5</td>\n",
       "      <td>Regla</td>\n",
       "      <td>NaN</td>\n",
       "      <td>Chino</td>\n",
       "      <td>Vivienda</td>\n",
       "      <td>NaN</td>\n",
       "      <td>-44560.0</td>\n",
       "      <td>NaN</td>\n",
       "    </tr>\n",
       "    <tr>\n",
       "      <th>3</th>\n",
       "      <td>N</td>\n",
       "      <td>2021-12-30</td>\n",
       "      <td>2.5</td>\n",
       "      <td>Resaltadores</td>\n",
       "      <td>NaN</td>\n",
       "      <td>Chino</td>\n",
       "      <td>Vivienda</td>\n",
       "      <td>NaN</td>\n",
       "      <td>-44560.0</td>\n",
       "      <td>NaN</td>\n",
       "    </tr>\n",
       "    <tr>\n",
       "      <th>4</th>\n",
       "      <td>N</td>\n",
       "      <td>2021-12-30</td>\n",
       "      <td>2.0</td>\n",
       "      <td>Cuaderno</td>\n",
       "      <td>NaN</td>\n",
       "      <td>Chino</td>\n",
       "      <td>Vivienda</td>\n",
       "      <td>NaN</td>\n",
       "      <td>-44560.0</td>\n",
       "      <td>NaN</td>\n",
       "    </tr>\n",
       "  </tbody>\n",
       "</table>\n",
       "</div>"
      ],
      "text/plain": [
       "   0          1    2                   3    4      5         6    7        8  \\\n",
       "0  N 2021-12-30  3.2         Perforadora  NaN  Chino  Vivienda  NaN -44560.0   \n",
       "1  N 2021-12-30  1.2  Pincel de silicona  NaN  Chino  Vivienda  NaN -44560.0   \n",
       "2  N 2021-12-30  0.5               Regla  NaN  Chino  Vivienda  NaN -44560.0   \n",
       "3  N 2021-12-30  2.5        Resaltadores  NaN  Chino  Vivienda  NaN -44560.0   \n",
       "4  N 2021-12-30  2.0            Cuaderno  NaN  Chino  Vivienda  NaN -44560.0   \n",
       "\n",
       "    9  \n",
       "0 NaN  \n",
       "1 NaN  \n",
       "2 NaN  \n",
       "3 NaN  \n",
       "4 NaN  "
      ]
     },
     "execution_count": 57,
     "metadata": {},
     "output_type": "execute_result"
    }
   ],
   "source": [
    "#pd.set_option('display.max_rows', None)  # Mostrar todas las filas\n",
    "df.head()"
   ]
  },
  {
   "cell_type": "code",
   "execution_count": 58,
   "metadata": {},
   "outputs": [],
   "source": [
    "df_completo = df.drop([0,4,7,8,9], axis = 1)\n",
    "#verificar que se han eliminado las columnas"
   ]
  },
  {
   "cell_type": "code",
   "execution_count": null,
   "metadata": {},
   "outputs": [],
   "source": [
    "df_completo\n"
   ]
  },
  {
   "cell_type": "code",
   "execution_count": 70,
   "metadata": {},
   "outputs": [
    {
     "data": {
      "text/html": [
       "<div>\n",
       "<style scoped>\n",
       "    .dataframe tbody tr th:only-of-type {\n",
       "        vertical-align: middle;\n",
       "    }\n",
       "\n",
       "    .dataframe tbody tr th {\n",
       "        vertical-align: top;\n",
       "    }\n",
       "\n",
       "    .dataframe thead th {\n",
       "        text-align: right;\n",
       "    }\n",
       "</style>\n",
       "<table border=\"1\" class=\"dataframe\">\n",
       "  <thead>\n",
       "    <tr style=\"text-align: right;\">\n",
       "      <th></th>\n",
       "      <th>Fecha</th>\n",
       "      <th>Precio</th>\n",
       "      <th>Producto</th>\n",
       "      <th>Lugar</th>\n",
       "      <th>Categoria</th>\n",
       "    </tr>\n",
       "  </thead>\n",
       "  <tbody>\n",
       "    <tr>\n",
       "      <th>1495</th>\n",
       "      <td>2023-01-07</td>\n",
       "      <td>1.0</td>\n",
       "      <td>caramelos miel</td>\n",
       "      <td>NaN</td>\n",
       "      <td>Comidas</td>\n",
       "    </tr>\n",
       "  </tbody>\n",
       "</table>\n",
       "</div>"
      ],
      "text/plain": [
       "           Fecha  Precio        Producto Lugar Categoria\n",
       "1495  2023-01-07     1.0  caramelos miel   NaN   Comidas"
      ]
     },
     "execution_count": 70,
     "metadata": {},
     "output_type": "execute_result"
    }
   ],
   "source": [
    "df_completo.columns = ['Fecha', 'Precio', 'Producto', 'Lugar', 'Categoria']\n",
    "df_completo.sample()"
   ]
  },
  {
   "cell_type": "code",
   "execution_count": 74,
   "metadata": {},
   "outputs": [
    {
     "data": {
      "text/plain": [
       "Fecha        datetime64[ns]\n",
       "Precio              float64\n",
       "Producto             object\n",
       "Lugar                object\n",
       "Categoria            object\n",
       "dtype: object"
      ]
     },
     "execution_count": 74,
     "metadata": {},
     "output_type": "execute_result"
    }
   ],
   "source": [
    "df_completo.dtypes"
   ]
  },
  {
   "cell_type": "code",
   "execution_count": 75,
   "metadata": {},
   "outputs": [
    {
     "name": "stdout",
     "output_type": "stream",
     "text": [
      "datetime64[ns]\n"
     ]
    }
   ],
   "source": [
    "# Convertir a datetime y eliminar la hora\n",
    "df_completo['Fecha'] = pd.to_datetime(df_completo['Fecha'])\n",
    "print(df_completo['Fecha'].dtype)  # Esto será: datetime64[ns]"
   ]
  },
  {
   "cell_type": "code",
   "execution_count": 69,
   "metadata": {},
   "outputs": [
    {
     "data": {
      "text/plain": [
       "dtype('float64')"
      ]
     },
     "execution_count": 69,
     "metadata": {},
     "output_type": "execute_result"
    }
   ],
   "source": [
    "df_completo['Precio'] = pd.to_numeric(df_completo['Precio'], errors='coerce')\n",
    "df_completo['Precio'].dtype"
   ]
  }
 ],
 "metadata": {
  "kernelspec": {
   "display_name": "Python 3",
   "language": "python",
   "name": "python3"
  },
  "language_info": {
   "codemirror_mode": {
    "name": "ipython",
    "version": 3
   },
   "file_extension": ".py",
   "mimetype": "text/x-python",
   "name": "python",
   "nbconvert_exporter": "python",
   "pygments_lexer": "ipython3",
   "version": "3.13.0"
  }
 },
 "nbformat": 4,
 "nbformat_minor": 2
}
