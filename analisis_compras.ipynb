{
 "cells": [
  {
   "cell_type": "code",
   "execution_count": 41,
   "metadata": {},
   "outputs": [],
   "source": [
    "import matplotlib.pyplot as plt\n",
    "import numpy as np\n",
    "import openpyxl\n",
    "import os\n",
    "import pandas as pd\n",
    "import seaborn as sns\n",
    "import warnings\n",
    "warnings.filterwarnings(\"ignore\", category=UserWarning, module=\"openpyxl\")\n",
    "\n"
   ]
  },
  {
   "cell_type": "code",
   "execution_count": 58,
   "metadata": {},
   "outputs": [],
   "source": [
    "nombre_archivo = [\"Presupuesto_mensual_2021.xlsx\", \"Presupuesto_mensual_2022.xlsx\", \"Presupuesto_mensual_2023.xlsx\", \"Presupuesto_mensual_2024.xlsx\"]\n",
    "rango_hojas = list(range(1,13))\n",
    "\n",
    "def excel_a_df(archivo, rango_hojas):\n",
    "    df_compras = pd.DataFrame() #df vacio para almacenar los resultados\n",
    "    for a in archivo:\n",
    "        try:\n",
    "            datos = pd.read_excel(a, sheet_name= rango_hojas, header= None, skiprows= 5)\n",
    "            #concatenar todas las hojas de los arhicvos en el df final\n",
    "            for hoja, df in datos.items():\n",
    "                df_compras = pd.concat([df_compras, df], ignore_index= True) #directamente concatena\n",
    "            #manejo de errores\n",
    "        except ValueError as e:\n",
    "            #print(f\"Algunas hojas especificadas no existen en {archivo}: {e}\")\n",
    "            continue\n",
    "        except Exception as e:\n",
    "            #print(f\"Error inesperado al procesar el libro {a} y la hoja {l}\")\n",
    "            continue\n",
    "    return df_compras \n"
   ]
  },
  {
   "cell_type": "code",
   "execution_count": 59,
   "metadata": {},
   "outputs": [],
   "source": [
    "df = excel_a_df(nombre_archivo, rango_hojas)"
   ]
  },
  {
   "cell_type": "code",
   "execution_count": 60,
   "metadata": {},
   "outputs": [
    {
     "data": {
      "text/html": [
       "<div>\n",
       "<style scoped>\n",
       "    .dataframe tbody tr th:only-of-type {\n",
       "        vertical-align: middle;\n",
       "    }\n",
       "\n",
       "    .dataframe tbody tr th {\n",
       "        vertical-align: top;\n",
       "    }\n",
       "\n",
       "    .dataframe thead th {\n",
       "        text-align: right;\n",
       "    }\n",
       "</style>\n",
       "<table border=\"1\" class=\"dataframe\">\n",
       "  <thead>\n",
       "    <tr style=\"text-align: right;\">\n",
       "      <th></th>\n",
       "      <th>0</th>\n",
       "      <th>1</th>\n",
       "      <th>2</th>\n",
       "      <th>3</th>\n",
       "      <th>4</th>\n",
       "      <th>5</th>\n",
       "      <th>6</th>\n",
       "      <th>7</th>\n",
       "      <th>8</th>\n",
       "      <th>9</th>\n",
       "    </tr>\n",
       "  </thead>\n",
       "  <tbody>\n",
       "    <tr>\n",
       "      <th>0</th>\n",
       "      <td>N</td>\n",
       "      <td>2021-12-30</td>\n",
       "      <td>3.2</td>\n",
       "      <td>Perforadora</td>\n",
       "      <td>NaN</td>\n",
       "      <td>Chino</td>\n",
       "      <td>Vivienda</td>\n",
       "      <td>NaN</td>\n",
       "      <td>-44560.0</td>\n",
       "      <td>NaN</td>\n",
       "    </tr>\n",
       "    <tr>\n",
       "      <th>1</th>\n",
       "      <td>N</td>\n",
       "      <td>2021-12-30</td>\n",
       "      <td>1.2</td>\n",
       "      <td>Pincel de silicona</td>\n",
       "      <td>NaN</td>\n",
       "      <td>Chino</td>\n",
       "      <td>Vivienda</td>\n",
       "      <td>NaN</td>\n",
       "      <td>-44560.0</td>\n",
       "      <td>NaN</td>\n",
       "    </tr>\n",
       "    <tr>\n",
       "      <th>2</th>\n",
       "      <td>N</td>\n",
       "      <td>2021-12-30</td>\n",
       "      <td>0.5</td>\n",
       "      <td>Regla</td>\n",
       "      <td>NaN</td>\n",
       "      <td>Chino</td>\n",
       "      <td>Vivienda</td>\n",
       "      <td>NaN</td>\n",
       "      <td>-44560.0</td>\n",
       "      <td>NaN</td>\n",
       "    </tr>\n",
       "    <tr>\n",
       "      <th>3</th>\n",
       "      <td>N</td>\n",
       "      <td>2021-12-30</td>\n",
       "      <td>2.5</td>\n",
       "      <td>Resaltadores</td>\n",
       "      <td>NaN</td>\n",
       "      <td>Chino</td>\n",
       "      <td>Vivienda</td>\n",
       "      <td>NaN</td>\n",
       "      <td>-44560.0</td>\n",
       "      <td>NaN</td>\n",
       "    </tr>\n",
       "    <tr>\n",
       "      <th>4</th>\n",
       "      <td>N</td>\n",
       "      <td>2021-12-30</td>\n",
       "      <td>2.0</td>\n",
       "      <td>Cuaderno</td>\n",
       "      <td>NaN</td>\n",
       "      <td>Chino</td>\n",
       "      <td>Vivienda</td>\n",
       "      <td>NaN</td>\n",
       "      <td>-44560.0</td>\n",
       "      <td>NaN</td>\n",
       "    </tr>\n",
       "  </tbody>\n",
       "</table>\n",
       "</div>"
      ],
      "text/plain": [
       "   0          1    2                   3    4      5         6    7        8  \\\n",
       "0  N 2021-12-30  3.2         Perforadora  NaN  Chino  Vivienda  NaN -44560.0   \n",
       "1  N 2021-12-30  1.2  Pincel de silicona  NaN  Chino  Vivienda  NaN -44560.0   \n",
       "2  N 2021-12-30  0.5               Regla  NaN  Chino  Vivienda  NaN -44560.0   \n",
       "3  N 2021-12-30  2.5        Resaltadores  NaN  Chino  Vivienda  NaN -44560.0   \n",
       "4  N 2021-12-30  2.0            Cuaderno  NaN  Chino  Vivienda  NaN -44560.0   \n",
       "\n",
       "    9  \n",
       "0 NaN  \n",
       "1 NaN  \n",
       "2 NaN  \n",
       "3 NaN  \n",
       "4 NaN  "
      ]
     },
     "execution_count": 60,
     "metadata": {},
     "output_type": "execute_result"
    }
   ],
   "source": [
    "#pd.set_option('display.max_rows', None)  # Mostrar todas las filas\n",
    "df.head()"
   ]
  },
  {
   "cell_type": "code",
   "execution_count": 61,
   "metadata": {},
   "outputs": [],
   "source": [
    "#eliminar columnas que no voy a ocupar\n",
    "df_completo = df.drop([0,4,7,8,9], axis = 1)\n",
    "#verificar que se han eliminado las columnas"
   ]
  },
  {
   "cell_type": "code",
   "execution_count": null,
   "metadata": {},
   "outputs": [],
   "source": [
    "df_completo\n"
   ]
  },
  {
   "cell_type": "code",
   "execution_count": 62,
   "metadata": {},
   "outputs": [
    {
     "data": {
      "text/html": [
       "<div>\n",
       "<style scoped>\n",
       "    .dataframe tbody tr th:only-of-type {\n",
       "        vertical-align: middle;\n",
       "    }\n",
       "\n",
       "    .dataframe tbody tr th {\n",
       "        vertical-align: top;\n",
       "    }\n",
       "\n",
       "    .dataframe thead th {\n",
       "        text-align: right;\n",
       "    }\n",
       "</style>\n",
       "<table border=\"1\" class=\"dataframe\">\n",
       "  <thead>\n",
       "    <tr style=\"text-align: right;\">\n",
       "      <th></th>\n",
       "      <th>Fecha</th>\n",
       "      <th>Precio</th>\n",
       "      <th>Producto</th>\n",
       "      <th>Lugar</th>\n",
       "      <th>Categoria</th>\n",
       "    </tr>\n",
       "  </thead>\n",
       "  <tbody>\n",
       "    <tr>\n",
       "      <th>817</th>\n",
       "      <td>2022-07-06</td>\n",
       "      <td>1.4</td>\n",
       "      <td>patatas gajo</td>\n",
       "      <td>Mercadona</td>\n",
       "      <td>Comida</td>\n",
       "    </tr>\n",
       "  </tbody>\n",
       "</table>\n",
       "</div>"
      ],
      "text/plain": [
       "         Fecha Precio      Producto      Lugar Categoria\n",
       "817 2022-07-06    1.4  patatas gajo  Mercadona    Comida"
      ]
     },
     "execution_count": 62,
     "metadata": {},
     "output_type": "execute_result"
    }
   ],
   "source": [
    "#ponerle nombre a las columnas\n",
    "df_completo.columns = ['Fecha', 'Precio', 'Producto', 'Lugar', 'Categoria']\n",
    "df_completo.sample()"
   ]
  },
  {
   "cell_type": "code",
   "execution_count": 71,
   "metadata": {},
   "outputs": [
    {
     "data": {
      "text/plain": [
       "Unnamed: 0     int64\n",
       "Fecha         object\n",
       "Precio        object\n",
       "Producto      object\n",
       "Lugar         object\n",
       "Categoria     object\n",
       "dtype: object"
      ]
     },
     "execution_count": 71,
     "metadata": {},
     "output_type": "execute_result"
    }
   ],
   "source": [
    "#verificar los tipos de datos y hacer cambios donde se requiera\n",
    "df_completo.dtypes"
   ]
  },
  {
   "cell_type": "code",
   "execution_count": 72,
   "metadata": {},
   "outputs": [
    {
     "name": "stdout",
     "output_type": "stream",
     "text": [
      "datetime64[ns]\n"
     ]
    }
   ],
   "source": [
    "# Convertir a datetime y eliminar la hora\n",
    "df_completo['Fecha'] = pd.to_datetime(df_completo['Fecha'])\n",
    "print(df_completo['Fecha'].dtype)  # Esto será: datetime64[ns]"
   ]
  },
  {
   "cell_type": "code",
   "execution_count": 73,
   "metadata": {},
   "outputs": [
    {
     "data": {
      "text/plain": [
       "dtype('float64')"
      ]
     },
     "execution_count": 73,
     "metadata": {},
     "output_type": "execute_result"
    }
   ],
   "source": [
    "#convertir la columna precio de object a float\n",
    "df_completo['Precio'] = pd.to_numeric(df_completo['Precio'], errors='coerce')\n",
    "df_completo['Precio'].dtype"
   ]
  },
  {
   "cell_type": "code",
   "execution_count": 82,
   "metadata": {},
   "outputs": [
    {
     "name": "stdout",
     "output_type": "stream",
     "text": [
      "['Vivienda' 'Supermercado' 'Farmacia' 'Salidas'\n",
      " 'Suministros (luz, agua, gas, etc.)' 'Tramites' 'Transporte' 'Viajes' nan\n",
      " 'Otros' 'Gastos personales' 'Gimnasio' 'Frutas/Verduras' 'Bebidas'\n",
      " 'Limpieza']\n"
     ]
    }
   ],
   "source": [
    "#Reemplazar algunos valores de Categoria para unificar criterios\n",
    "\n",
    "df_completo['Categoria'] = df_completo['Categoria'].replace(\n",
    "    {'Supermercado Otros': 'Supermercado', \n",
    "     'Comida': 'Supermercado', \n",
    "     'Comidas': 'Supermercado', \n",
    "     'Supermercados':'Supermercado',\n",
    "     'Carnes': 'Supermercado',\n",
    "     'Varios': 'Otros',\n",
    "     'Salud/médicos': 'Farmacia'},\n",
    "    regex = True\n",
    ")\n",
    "\n",
    "print(df_completo['Categoria'].unique())"
   ]
  },
  {
   "cell_type": "code",
   "execution_count": 83,
   "metadata": {},
   "outputs": [],
   "source": [
    "#guardar en csv para ocuparlo cuando quiero continuar con el trabajo y no tener que recargar el código completo\n",
    "\n",
    "df_completo.to_csv(\"compras_anuales.csv\")"
   ]
  },
  {
   "cell_type": "code",
   "execution_count": 84,
   "metadata": {},
   "outputs": [],
   "source": [
    "#Abrir csv para empezar a graficar\n",
    "\n",
    "df_completo = pd.read_csv(\"compras_anuales.csv\")"
   ]
  },
  {
   "cell_type": "markdown",
   "metadata": {},
   "source": [
    "### Gráficos"
   ]
  },
  {
   "cell_type": "code",
   "execution_count": 76,
   "metadata": {},
   "outputs": [
    {
     "data": {
      "text/plain": [
       "<function matplotlib.pyplot.show(close=None, block=None)>"
      ]
     },
     "execution_count": 76,
     "metadata": {},
     "output_type": "execute_result"
    },
    {
     "data": {
      "image/png": "[encoded data removed]",
      "text/plain": [
       "<Figure size 1000x600 with 1 Axes>"
      ]
     },
     "metadata": {},
     "output_type": "display_data"
    }
   ],
   "source": [
    "#Histograma para ver la distribución general de los precios\n",
    "\n",
    "plt.figure(figsize=(10, 6))\n",
    "plt.hist(df_completo['Precio'], bins = 30, color='royalblue', edgecolor='black', alpha=0.7)\n",
    "plt.title('Distribución de precios', fontsize = 16)\n",
    "plt.xlabel('Rango de precios', fontsize=12)\n",
    "plt.ylabel('Cantidad de compras hechas', fontsize=12)\n",
    "plt.grid(axis = 'y', alpha=0.7)\n",
    "plt.xlim(0, 75)  # Limitar el eje X entre 0 y 200\n",
    "plt.xticks(np.arange(0, 75, 5)) #configurar el eje x para que vaya de 5 en 5\n",
    "plt.show"
   ]
  },
  {
   "cell_type": "code",
   "execution_count": 86,
   "metadata": {},
   "outputs": [
    {
     "name": "stderr",
     "output_type": "stream",
     "text": [
      "/var/folders/nm/scqkx_px2cv2000nz2c7h6j80000gp/T/ipykernel_1806/1815684374.py:15: FutureWarning: \n",
      "\n",
      "Passing `palette` without assigning `hue` is deprecated and will be removed in v0.14.0. Assign the `x` variable to `hue` and set `legend=False` for the same effect.\n",
      "\n",
      "  sns.barplot(x='Categoria', y='Precio', data=gasto_categoria_top5, palette='Set2')\n"
     ]
    },
    {
     "data": {
      "image/png": "[encoded data removed]",
      "text/plain": [
       "<Figure size 1200x600 with 1 Axes>"
      ]
     },
     "metadata": {},
     "output_type": "display_data"
    }
   ],
   "source": [
    "#Gráfico de gasto total por categoría\n",
    "\n",
    "#Agrupar por categoría y calcular el gasto total de cada una\n",
    "\n",
    "gasto_categoria = df_completo.groupby('Categoria')['Precio'].sum().reset_index()\n",
    "\n",
    "#Ordenar por gasto total\n",
    "gasto_categoria = gasto_categoria.sort_values('Precio', ascending=False)\n",
    "\n",
    "# Obtener solo las 5 categorías con mayor gasto\n",
    "gasto_categoria_top5 = gasto_categoria.head(5)\n",
    "\n",
    "#Gráfico\n",
    "plt.figure(figsize=(12,6))\n",
    "sns.barplot(x='Categoria', y='Precio', data=gasto_categoria_top5, palette='Set2')\n",
    "plt.title('Gasto total por categoría', fontsize = 16)\n",
    "plt.xlabel('Categoria', fontsize=12)\n",
    "plt.ylabel('Gasto total', fontsize=12)\n",
    "plt.xticks(rotation=45)\n",
    "plt.grid(axis='y', alpha = 0.7)\n",
    "plt.show()"
   ]
  }
 ],
 "metadata": {
  "kernelspec": {
   "display_name": "Python 3",
   "language": "python",
   "name": "python3"
  },
  "language_info": {
   "codemirror_mode": {
    "name": "ipython",
    "version": 3
   },
   "file_extension": ".py",
   "mimetype": "text/x-python",
   "name": "python",
   "nbconvert_exporter": "python",
   "pygments_lexer": "ipython3",
   "version": "3.13.0"
  }
 },
 "nbformat": 4,
 "nbformat_minor": 2
}
